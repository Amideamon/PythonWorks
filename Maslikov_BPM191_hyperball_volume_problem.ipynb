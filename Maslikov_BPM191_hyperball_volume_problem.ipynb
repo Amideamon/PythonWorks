{
 "cells": [
  {
   "cell_type": "markdown",
   "id": "830b96a4",
   "metadata": {
    "id": "830b96a4"
   },
   "source": [
    "# Объем гипершара"
   ]
  },
  {
   "cell_type": "markdown",
   "id": "32e833da",
   "metadata": {
    "id": "32e833da"
   },
   "source": [
    "### Условие задачи\n",
    "\n",
    "**Дано:**\n",
    "- гипершар радиуса $1$ в пространстве $R^n, n=1..16$\n",
    "- величины абсолютной и относительной погрешностей: $10^{-6}$, $10^{-6}$\n",
    "- геометрический метод Монте-Карло\n",
    "\n",
    "**Требуется:**\n",
    "- указанным методом рассчитать объем гипершара в пространствах заданных размерностей\n",
    "- в процессе расчета выводить время расчета для каждой размерности пространства\n",
    "- оценить необходимое количество точек для достижения заданных погрешностей\n",
    "- отобразить график объема гипершара в зависимости от размерности пространства (график 1)\n",
    "- отобразить график количества точек в зависимости от размерности пространства (график 2)\n",
    "- вывести разницу между полученным результатом и точными значениями (точные значения приведены на Рис. 1)\n",
    "- к каждой функции добавить `docstring` с описанием того, что функция делает, всех параметров и возвращаемого значения\n",
    "\n",
    "<img src='https://upload.wikimedia.org/wikipedia/commons/6/6c/Hypersphere_volume_and_surface_area_graphs.svg' width=480></img>\n",
    "\n",
    "<center>Рис. 1. График аналитической зависимости объема и площади поверхности гипершара от размерности пространства</center>\n",
    "\n",
    "**Описание метода:**\n",
    "\n",
    "Возьмем случайную равномерно распределенную выборку векторов $\\xi_k^{(n)}, k \\in [1, 2, ..., K]$ внутри куба $[0, 1]^n$.\n",
    "\n",
    "Пусть $T \\subset [1, 2, ..., K]$ - множество индексов векторов из выборки, лежащих внутри гипершара, т.е. $||\\xi_i^{(n)}|| < 1, i \\in T$.\n",
    "\n",
    "Тогда оценкой объема гипершара будет $V_K^{(n)} \\approx 2^n \\cdot \\frac{|T|}{K}$, где $|T|$ - количество элементов множества $T$.\n",
    "\n",
    "Для оценки вероятностной погрешности воспользуемся следующим подходом:\n",
    "- $\\Delta V_K^{(n)} = |V_{K+\\Delta K}^{(n)} - V_K^{(n)}|$\n",
    "- $s = \\varepsilon_a + |V_{K+\\Delta K}^{(n)}| * \\varepsilon_r$\n",
    "- условие $|\\Delta V_K^{(n)}| / s < 1.0$ означает, что удовлетворены абсолютная и относительная погрешности\n",
    "\n",
    "\n",
    "**Материалы:**\n",
    "- [N-sphere](https://en.wikipedia.org/wiki/N-sphere)\n",
    "- [Метод Монте-Карло](https://ru.wikipedia.org/wiki/Метод_Монте-Карло)\n",
    "- [Геометрический метод Монте-Карло](https://scask.ru/f_book_cmk.php?id=56)\n",
    "- [Пример хорошего `docstring`](https://github.com/numpy/numpy/blob/v1.21.0/numpy/linalg/linalg.py#L313-L395)\n",
    "\n",
    "\n",
    "**Правила оценивания:**\n",
    "\n",
    "- оценка за корректно выполненный расчет для количества измерений `n`, баллов из 100:\n",
    "```\n",
    "    n   =    1,   2,   3,   4,   5,   6,   7,   8,   9,  10,  11,  12,  13,  14,   15,   16\n",
    "    g(n) = 1.0, 1.0, 1.0, 1.0, 1.0, 1.0, 1.0, 1.0, 1.1, 1.3, 1.6, 2.5, 4.5, 9.5, 21.5, 50.0\n",
    "```\n",
    "    \n",
    "- штрафы $p(i)$, баллов:\n",
    "    - не выведено время расчета - 20\n",
    "    - не выведено количество точек для каждой размерности - 20\n",
    "    - не построен график 1 - 20\n",
    "    - не построен график 2 - 20\n",
    "    - отсутствует сравнение с точными значениями - 20\n",
    "    - отсутствует `docstring` - 20\n",
    "    - менее значимые недоработки - 10\n",
    "\n",
    "\n",
    "- итоговая оценка за задание = $\\sum_{n=1}^{16}{g(n)} - \\sum_{i}{p(i)}$\n"
   ]
  },
  {
   "cell_type": "markdown",
   "id": "0cce3273",
   "metadata": {},
   "source": [
    "Масликов Дмитрий БПМ191"
   ]
  },
  {
   "cell_type": "code",
   "execution_count": 4,
   "id": "23e4ad35",
   "metadata": {
    "id": "23e4ad35"
   },
   "outputs": [],
   "source": [
    "import numpy as np\n",
    "from tqdm import trange, tqdm\n",
    "import matplotlib.pyplot as plt\n",
    "import holoviews as hv\n",
    "import time\n",
    "from numba import njit, prange\n",
    "from math import pi"
   ]
  },
  {
   "cell_type": "markdown",
   "id": "a87dcaa2",
   "metadata": {},
   "source": [
    "Создание списка для хранения всех размерностей:"
   ]
  },
  {
   "cell_type": "code",
   "execution_count": 5,
   "id": "3a73fd3b",
   "metadata": {
    "id": "3a73fd3b"
   },
   "outputs": [],
   "source": [
    "Rarray = np.linspace(1, 16, 16)"
   ]
  },
  {
   "cell_type": "markdown",
   "id": "4576492f",
   "metadata": {},
   "source": [
    "Создание списка с точными значениями объёмов всех гипершаров (до размерности = 15) для сравнения с полученными значениями:"
   ]
  },
  {
   "cell_type": "code",
   "execution_count": 12,
   "id": "8436377c",
   "metadata": {},
   "outputs": [],
   "source": [
    "right_volumes = [2, pi, 4*pi/3, pi**2/2, 8*pi**2/15, pi**3/6, 16*pi**3/105, pi**4/24, 32*pi**4/945, pi**5/120,\n",
    "                64*pi**5/10395, pi**6/720, 128*pi**6/135135, pi**7/5040, 15*pi**7/118771]"
   ]
  },
  {
   "cell_type": "markdown",
   "id": "279a74e4",
   "metadata": {},
   "source": [
    "Задание абсолютной и относительной ошибок:"
   ]
  },
  {
   "cell_type": "code",
   "execution_count": 6,
   "id": "d7d90c8f",
   "metadata": {},
   "outputs": [],
   "source": [
    "eps_abs = 0.000001\n",
    "eps_rel = 0.000001"
   ]
  },
  {
   "cell_type": "markdown",
   "id": "03ad4b09",
   "metadata": {},
   "source": [
    "Функция расчёта объёма гипершара при заданной размерности пространства и абсолютной и относительной ошибок:"
   ]
  },
  {
   "cell_type": "code",
   "execution_count": 7,
   "id": "e2a89501",
   "metadata": {},
   "outputs": [],
   "source": [
    "@njit\n",
    "def volume_MMK(N, eps_a, eps_r):\n",
    "    '''\n",
    "    Рассчитывает объём гипершара в пространстве заданной размерности (\"N\"), а также количество точек,\n",
    "    по которым этот объём получен, с учётом абсолютной ('eps_a') и относительной ('eps_r') ошибок.\n",
    "    \n",
    "    Параметры:\n",
    "    ----------\n",
    "    N:  int\n",
    "        Размерность пространства.\n",
    "    eps_a:  float\n",
    "        Абсолютная ошибка.\n",
    "    eps_r:  float\n",
    "        Относительная ошибка.\n",
    "    \n",
    "    Возвращаемое значение:\n",
    "    ----------\n",
    "    (volume, n): (float, int) tuple\n",
    "        Возвращает кортеж, в котором на первом месте стоит рассчитанный объём гипершара, \n",
    "        а на втором - количество точек, про котором достигаются нужные погрешности.\n",
    "    '''\n",
    "    n = 100000\n",
    "    m = 100000\n",
    "    dots_in_T = 0\n",
    "    \n",
    "    for i in prange(n):\n",
    "        dot = np.random.uniform(0, 1, N)\n",
    "        if np.linalg.norm(dot) < 1:\n",
    "            dots_in_T += 1\n",
    "    volume = (2**N * dots_in_T) / n\n",
    "    \n",
    "    error = 1.0\n",
    "    while error >= 1.0:\n",
    "        dots_in_T = 0\n",
    "        for i in range(m):\n",
    "            dot = np.random.uniform(0, 1, N)\n",
    "            if np.linalg.norm(dot) < 1:\n",
    "                dots_in_T += 1\n",
    "        volume_add = (2**N * dots_in_T) / m\n",
    "\n",
    "        volume_add = (n * volume + m * volume_add) / (n+m)\n",
    "        error = abs(volume_add - volume) / (eps_a + abs(volume_add) * eps_r)\n",
    "        if error >= 1:\n",
    "            n = n + m\n",
    "            volume = volume_add\n",
    "    return volume, n"
   ]
  },
  {
   "cell_type": "markdown",
   "id": "3ecf3988",
   "metadata": {},
   "source": [
    "Цикл, запускающий расчёты по всем размерностям. Печатает время расчёта объёма гипершара для каждой размерности:"
   ]
  },
  {
   "cell_type": "code",
   "execution_count": 15,
   "id": "4d3b51cd",
   "metadata": {
    "scrolled": true
   },
   "outputs": [
    {
     "name": "stdout",
     "output_type": "stream",
     "text": [
      "Time for dimension 1 : 0.12689900398254395\n",
      "Time for dimension 2 : 2.225039005279541\n",
      "Time for dimension 3 : 2.7714030742645264\n",
      "Time for dimension 4 : 1.2515208721160889\n",
      "Time for dimension 5 : 13.190424680709839\n",
      "Time for dimension 6 : 6.5807271003723145\n",
      "Time for dimension 7 : 13.371022939682007\n",
      "Time for dimension 8 : 8.28924298286438\n",
      "Time for dimension 9 : 9.611342906951904\n",
      "Time for dimension 10 : 9.136337995529175\n",
      "Time for dimension 11 : 100.47320318222046\n",
      "Time for dimension 12 : 0.9697582721710205\n",
      "Time for dimension 13 : 51.817452907562256\n",
      "Time for dimension 14 : 0.10927510261535645\n",
      "Time for dimension 15 : 2234.3171129226685\n",
      "Time for dimension 16 : 10581.527542829514\n"
     ]
    }
   ],
   "source": [
    "volumes = []\n",
    "number_of_dots = []\n",
    "for i in prange(1, 17):\n",
    "    t = time.time()\n",
    "    buf = volume_MMK(i, eps_abs, eps_rel)\n",
    "    print('Time for dimension', i, ':', time.time() - t)\n",
    "    volumes.append(buf[0])\n",
    "    number_of_dots.append(buf[1])"
   ]
  },
  {
   "cell_type": "markdown",
   "id": "e8e7baaa",
   "metadata": {},
   "source": [
    "Вывод найденных объёмов гипершаров всех размерностей и оценка количества точек, при которых погрешности удовлетворены:"
   ]
  },
  {
   "cell_type": "code",
   "execution_count": 43,
   "id": "599b708b",
   "metadata": {},
   "outputs": [
    {
     "name": "stdout",
     "output_type": "stream",
     "text": [
      "Volume for dimension 1 = 2.0  Number of dots = 100000\n",
      "Volume for dimension 2 = 3.1414859574468084  Number of dots = 4700000\n",
      "Volume for dimension 3 = 4.186281379310343  Number of dots = 5800000\n",
      "Volume for dimension 4 = 4.932985600000001  Number of dots = 2500000\n",
      "Volume for dimension 5 = 5.26204279069767  Number of dots = 25800000\n",
      "Volume for dimension 6 = 5.171423255813951  Number of dots = 12900000\n",
      "Volume for dimension 7 = 4.728339999999998  Number of dots = 25600000\n",
      "Volume for dimension 8 = 4.052260122699386  Number of dots = 16300000\n",
      "Volume for dimension 9 = 3.276745240641711  Number of dots = 18700000\n",
      "Volume for dimension 10 = 2.528872727272727  Number of dots = 17600000\n",
      "Volume for dimension 11 = 1.8789070482246952  Number of dots = 188700000\n",
      "Volume for dimension 12 = 1.35168  Number of dots = 1700000\n",
      "Volume for dimension 13 = 0.8999037963944854  Number of dots = 94300000\n",
      "Volume for dimension 14 = 0.65536  Number of dots = 100000\n",
      "Volume for dimension 15 = 0.3836079661562061  Number of dots = 4042100000\n",
      "Volume for dimension 16 = 0.2355854678575741  Number of dots = 19066700000\n"
     ]
    }
   ],
   "source": [
    "for i in range (16):\n",
    "    print('Volume for dimension', i+1, '=', volumes[i], ' Number of dots =', number_of_dots[i])"
   ]
  },
  {
   "cell_type": "code",
   "execution_count": 103,
   "id": "68f6c923",
   "metadata": {
    "scrolled": true
   },
   "outputs": [
    {
     "data": {
      "image/png": "[encoded data removed]",
      "text/plain": [
       "<Figure size 432x288 with 1 Axes>"
      ]
     },
     "metadata": {
      "needs_background": "light"
     },
     "output_type": "display_data"
    }
   ],
   "source": [
    "plt.plot(Rarray, volumes, color='b', marker='.', ms=10, mfc='w');\n",
    "plt.title('График 1');\n",
    "plt.xlabel('Размерность');\n",
    "plt.ylabel('Объём гипершара');"
   ]
  },
  {
   "cell_type": "code",
   "execution_count": 106,
   "id": "453111cb",
   "metadata": {},
   "outputs": [
    {
     "data": {
      "image/png": "[encoded data removed]",
      "text/plain": [
       "<Figure size 432x288 with 1 Axes>"
      ]
     },
     "metadata": {
      "needs_background": "light"
     },
     "output_type": "display_data"
    }
   ],
   "source": [
    "plt.plot(Rarray, number_of_dots, color='b', marker='.', ms=10, mfc='w');\n",
    "plt.title('График 2');\n",
    "plt.xlabel('Размерность');\n",
    "plt.ylabel('Количество точек');"
   ]
  },
  {
   "cell_type": "markdown",
   "id": "e866a8ce",
   "metadata": {},
   "source": [
    "Разница между полученными результами и точными значениями:"
   ]
  },
  {
   "cell_type": "code",
   "execution_count": 19,
   "id": "55622ead",
   "metadata": {
    "scrolled": false
   },
   "outputs": [
    {
     "name": "stdout",
     "output_type": "stream",
     "text": [
      "0.0\n",
      "0.00010669614298475238\n",
      "0.0025088254760472495\n",
      "0.0018166005446778044\n",
      "0.0017462232166538527\n",
      "0.0037104757639818686\n",
      "0.003574029668597767\n",
      "0.006452003717381416\n",
      "0.021763662096994985\n",
      "0.021291312604617918\n",
      "0.005196831165204863\n",
      "0.016417231145410716\n",
      "0.010724958388797612\n",
      "0.05609547067920817\n",
      "0.0021646978781595383\n"
     ]
    }
   ],
   "source": [
    "for i in range(15):\n",
    "    print(abs(volumes[i] - right_volumes[i]))"
   ]
  },
  {
   "cell_type": "markdown",
   "id": "8daabeb2",
   "metadata": {},
   "source": [
    "Для некоторых размерностей получилась достаточно большая разница между полученными результами и точными значениями (порядка 10^-2). При этом для этих же значений получено количество точек, которое заметно меньше ожидаемого. Для достижения меньшей ошибки в сравнении с точными значениями объёмов сделаю перерассчёт для некоторых значений.\n",
    "\n",
    "Заметка: возможно, это необязательно, но просто хочется получить значения, наиболее приближённые к точным:)"
   ]
  },
  {
   "cell_type": "markdown",
   "id": "0fe6f939",
   "metadata": {},
   "source": [
    "Перерассчёт значений для размерностей 10, 12, 13, 14 и создание второго списка для хранения объёмов (volumes2), чтобы не потерять старые значения. Добавление новых значений в список volumes на соотвествующие места:"
   ]
  },
  {
   "cell_type": "code",
   "execution_count": 36,
   "id": "301d1330",
   "metadata": {},
   "outputs": [
    {
     "name": "stdout",
     "output_type": "stream",
     "text": [
      "(2.54916432132964, 36100000)\n",
      "Time for dimension 10 : 18.76112985610962\n"
     ]
    }
   ],
   "source": [
    "t = time.time()\n",
    "dim10 = volume_MMK(10, eps_abs, eps_rel)\n",
    "print(dim10)\n",
    "print('Time for dimension', 10, ':', time.time() - t)"
   ]
  },
  {
   "cell_type": "code",
   "execution_count": 39,
   "id": "5751433e",
   "metadata": {},
   "outputs": [
    {
     "name": "stdout",
     "output_type": "stream",
     "text": [
      "(1.3368201804005506, 654100000)\n",
      "Time for dimension 12 : 349.4602565765381\n"
     ]
    }
   ],
   "source": [
    "t = time.time()\n",
    "dim12 = volume_MMK(12, eps_abs, eps_rel)\n",
    "print(dim12)\n",
    "print('Time for dimension', 12, ':', time.time() - t)"
   ]
  },
  {
   "cell_type": "code",
   "execution_count": 40,
   "id": "043f1fb3",
   "metadata": {},
   "outputs": [
    {
     "name": "stdout",
     "output_type": "stream",
     "text": [
      "(0.9126230238726785, 603200000)\n",
      "Time for dimension 13 : 624.6467378139496\n"
     ]
    }
   ],
   "source": [
    "t = time.time()\n",
    "dim13 = volume_MMK(13, eps_abs, eps_rel)\n",
    "print(dim13)\n",
    "print('Time for dimension', 13, ':', time.time() - t)"
   ]
  },
  {
   "cell_type": "code",
   "execution_count": 41,
   "id": "fc91a51d",
   "metadata": {
    "scrolled": false
   },
   "outputs": [
    {
     "name": "stdout",
     "output_type": "stream",
     "text": [
      "(0.6011611126203358, 3386600000)\n",
      "Time for dimension 14 : 1848.2392020225525\n"
     ]
    }
   ],
   "source": [
    "t = time.time()\n",
    "dim14 = volume_MMK(14, eps_abs, eps_rel)\n",
    "print(dim14)\n",
    "print('Time for dimension', 14, ':', time.time() - t)"
   ]
  },
  {
   "cell_type": "code",
   "execution_count": 88,
   "id": "ddefeca5",
   "metadata": {},
   "outputs": [],
   "source": [
    "volumes2 = []\n",
    "for i in range(16):\n",
    "    volumes2.append(volumes[i])\n",
    "number_of_dots2 = []\n",
    "for i in range(16):\n",
    "    number_of_dots2.append(number_of_dots[i])"
   ]
  },
  {
   "cell_type": "code",
   "execution_count": 92,
   "id": "f476fcc5",
   "metadata": {},
   "outputs": [],
   "source": [
    "volumes2[9] = dim10[0]\n",
    "volumes2[11] = dim12[0]\n",
    "volumes2[12] = dim13[0]\n",
    "volumes2[13] = dim14[0]\n",
    "\n",
    "number_of_dots2[9] = dim10[1]\n",
    "number_of_dots2[11] = dim12[1]\n",
    "number_of_dots2[12] = dim13[1]\n",
    "number_of_dots2[13] = dim14[1]"
   ]
  },
  {
   "cell_type": "code",
   "execution_count": 95,
   "id": "b32e20bb",
   "metadata": {},
   "outputs": [
    {
     "name": "stdout",
     "output_type": "stream",
     "text": [
      "Volume for dimension 1 = 2.0  Number of dots = 100000\n",
      "Volume for dimension 2 = 3.1414859574468084  Number of dots = 4700000\n",
      "Volume for dimension 3 = 4.186281379310343  Number of dots = 5800000\n",
      "Volume for dimension 4 = 4.932985600000001  Number of dots = 2500000\n",
      "Volume for dimension 5 = 5.26204279069767  Number of dots = 25800000\n",
      "Volume for dimension 6 = 5.171423255813951  Number of dots = 12900000\n",
      "Volume for dimension 7 = 4.728339999999998  Number of dots = 25600000\n",
      "Volume for dimension 8 = 4.052260122699386  Number of dots = 16300000\n",
      "Volume for dimension 9 = 3.276745240641711  Number of dots = 18700000\n",
      "Volume for dimension 10 = 2.54916432132964  Number of dots = 36100000\n",
      "Volume for dimension 11 = 1.8789070482246952  Number of dots = 188700000\n",
      "Volume for dimension 12 = 1.3368201804005506  Number of dots = 654100000\n",
      "Volume for dimension 13 = 0.9126230238726785  Number of dots = 603200000\n",
      "Volume for dimension 14 = 0.6011611126203358  Number of dots = 3386600000\n",
      "Volume for dimension 15 = 0.3836079661562061  Number of dots = 4042100000\n",
      "Volume for dimension 16 = 0.2355854678575741  Number of dots = 19066700000\n"
     ]
    }
   ],
   "source": [
    "for i in range (16):\n",
    "    print('Volume for dimension', i+1, '=', volumes2[i], ' Number of dots =', number_of_dots2[i])"
   ]
  },
  {
   "cell_type": "code",
   "execution_count": 104,
   "id": "671974ac",
   "metadata": {},
   "outputs": [
    {
     "data": {
      "image/png": "[encoded data removed]",
      "text/plain": [
       "<Figure size 432x288 with 1 Axes>"
      ]
     },
     "metadata": {
      "needs_background": "light"
     },
     "output_type": "display_data"
    }
   ],
   "source": [
    "plt.plot(Rarray, volumes2, color='b', marker='.', ms=10, mfc='w');\n",
    "plt.title('График 1');\n",
    "plt.xlabel('Размерность');\n",
    "plt.ylabel('Объём гипершара');"
   ]
  },
  {
   "cell_type": "code",
   "execution_count": 105,
   "id": "c6df1b7d",
   "metadata": {},
   "outputs": [
    {
     "data": {
      "image/png": "[encoded data removed]",
      "text/plain": [
       "<Figure size 432x288 with 1 Axes>"
      ]
     },
     "metadata": {
      "needs_background": "light"
     },
     "output_type": "display_data"
    }
   ],
   "source": [
    "plt.plot(Rarray, number_of_dots2, color='b', marker='.', ms=10, mfc='w');\n",
    "plt.title('График 2');\n",
    "plt.xlabel('Размерность');\n",
    "plt.ylabel('Количество точек');"
   ]
  },
  {
   "cell_type": "markdown",
   "id": "3c0d797d",
   "metadata": {},
   "source": [
    "Разница между полученными результами и точными значениями:"
   ]
  },
  {
   "cell_type": "code",
   "execution_count": 98,
   "id": "3923751f",
   "metadata": {
    "scrolled": true
   },
   "outputs": [
    {
     "name": "stdout",
     "output_type": "stream",
     "text": [
      "0.0\n",
      "0.00010669614298475238\n",
      "0.0025088254760472495\n",
      "0.0018166005446778044\n",
      "0.0017462232166538527\n",
      "0.0037104757639818686\n",
      "0.003574029668597767\n",
      "0.006452003717381416\n",
      "0.021763662096994985\n",
      "0.0009997185477050863\n",
      "0.005196831165204863\n",
      "0.0015574115459613402\n",
      "0.001994269089395484\n",
      "0.001896583299543897\n",
      "0.0021646978781595383\n"
     ]
    }
   ],
   "source": [
    "for i in range(15):\n",
    "    print(abs(volumes2[i] - right_volumes[i]))"
   ]
  },
  {
   "cell_type": "markdown",
   "id": "0ca92e0c",
   "metadata": {},
   "source": [
    "Удалось получить более точные значения объёмов гипершаров. Ура:)"
   ]
  }
 ],
 "metadata": {
  "colab": {
   "collapsed_sections": [],
   "name": "hyperball_volume_problem.ipynb",
   "provenance": []
  },
  "kernelspec": {
   "display_name": "Python 3",
   "language": "python",
   "name": "python3"
  },
  "language_info": {
   "codemirror_mode": {
    "name": "ipython",
    "version": 3
   },
   "file_extension": ".py",
   "mimetype": "text/x-python",
   "name": "python",
   "nbconvert_exporter": "python",
   "pygments_lexer": "ipython3",
   "version": "3.8.8"
  }
 },
 "nbformat": 4,
 "nbformat_minor": 5
}
